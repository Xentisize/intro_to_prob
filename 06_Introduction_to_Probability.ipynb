{
 "cells": [
  {
   "cell_type": "markdown",
   "metadata": {},
   "source": [
    "## A. A Whirlwind Tour of Probability\n"
   ]
  },
  {
   "cell_type": "markdown",
   "metadata": {},
   "source": [
    "#### A.1 Basic definition of probability\n",
    "\n",
    "1. $0 \\leq P(A) \\leq 1 \\\\$\n",
    "2. $P(A\\;or\\;B) = P(A) + P(B) \\text{ if A and B are mutually exclusive events}\\\\$\n",
    "3. $P(A\\;and\\;B) = P(B) \\times P(A|B) \\\\$\n"
   ]
  },
  {
   "cell_type": "code",
   "execution_count": null,
   "metadata": {},
   "outputs": [],
   "source": []
  },
  {
   "cell_type": "markdown",
   "metadata": {},
   "source": [
    "$0 \\leq P(A) \\leq 1 \\\\$\n",
    "\n",
    "Probability of an event cannot be less than 0% or greater than 100%.\n",
    "\n",
    "$ P(A) = \\frac{\\text{Event you want}}{\\text{All possible events}} $\n"
   ]
  },
  {
   "cell_type": "code",
   "execution_count": null,
   "metadata": {},
   "outputs": [],
   "source": []
  },
  {
   "cell_type": "markdown",
   "metadata": {},
   "source": [
    "$P(A\\;or\\;B) = P(A) + P(B) \\text{ if A and B are mutually exclusive events}\\\\$\n",
    "\n",
    "Events can be `mutually exclusive` or `independent` if each even is **not** affected by other events.\n",
    "\n",
    "For example: Roll a dice  \n",
    "You roll a 6-faced dice twice. Every roll is indepedent or is not affected by the previous roll.  \n",
    "So the probabiliy of getting 2 in each roll is\n",
    "$ \\frac{1}{6} $.\n"
   ]
  },
  {
   "cell_type": "code",
   "execution_count": null,
   "metadata": {},
   "outputs": [],
   "source": []
  },
  {
   "cell_type": "markdown",
   "metadata": {},
   "source": [
    "$P(A\\;and\\;B) = P(B) \\times P(A|B) \\\\$\n",
    "Events are `dependent` when they can be affected by previous events.\n",
    "\n",
    "For example: Pick balls  \n",
    "You have 5 colored balls in a box. There are 3 <span style=\"color: red\">red</span> balls and 2 <span style=\"color: blue\">blue</span> balls.\n",
    "\n",
    "1. What are the chance of picking 2 blue balls?\n",
    "\n",
    "$ P(\\text{The first is a blue ball}) = \\frac{2}{5} $  \n",
    " Then,  \n",
    " $ P(\\text{The second is a blue ball}|\\text{The first is a blue ball}) = \\frac{1}{4} $\n",
    "\n",
    "> P(B|A) means `Event B given Event A`.  \n",
    "> This is called `Conditional Probability`.\n",
    "\n",
    "$ \\therefore P(\\text{2 Blue Balls}) = \\frac{2}{5} \\times \\frac{1}{4} = \\frac{1}{10} $\n"
   ]
  },
  {
   "cell_type": "code",
   "execution_count": null,
   "metadata": {},
   "outputs": [],
   "source": []
  },
  {
   "cell_type": "markdown",
   "metadata": {},
   "source": [
    "2. What are the chance of picking 2 red balls?\n",
    "\n",
    "$ P(\\text{The first is a red ball}) = \\frac{3}{5} $  \n",
    " Then,  \n",
    " $ P(\\text{The second is a red ball}|\\text{The first is a red ball}) = \\frac{2}{4} $\n",
    "\n",
    "$ \\therefore P(\\text{2 Red Balls}) = \\frac{3}{5} \\times \\frac{2}{4} = \\frac{3}{10} $\n"
   ]
  },
  {
   "cell_type": "code",
   "execution_count": null,
   "metadata": {},
   "outputs": [],
   "source": []
  },
  {
   "cell_type": "markdown",
   "metadata": {},
   "source": [
    "3. What are the chance of picking a blue ball first, and then a red ball?\n",
    "\n",
    "   $ P(B) = \\frac{2}{5} $  \n",
    "   Then,  \n",
    "   $ P(R|B) = \\frac{3}{4} $\n",
    "\n",
    "   > $P(R|B)$ means `getting a red ball given we have already got a blue ball`\n",
    "\n",
    "   $ \\therefore P(\\text{B First, R Second}) = \\frac{2}{5} \\times \\frac{3}{4} = \\frac{3}{10} $\n"
   ]
  },
  {
   "cell_type": "code",
   "execution_count": null,
   "metadata": {},
   "outputs": [],
   "source": []
  },
  {
   "cell_type": "markdown",
   "metadata": {},
   "source": [
    "4. What are the chance of picking a red ball first, and then a blue ball?\n",
    "\n",
    "   $ P(R) = \\frac{3}{5} $  \n",
    "   Then,  \n",
    "   $ P(B|R) = \\frac{2}{4} $\n",
    "\n",
    "   $ \\therefore P(\\text{R First, B Second}) = \\frac{3}{5} \\times \\frac{2}{4} = \\frac{3}{10} $\n"
   ]
  },
  {
   "cell_type": "code",
   "execution_count": null,
   "metadata": {},
   "outputs": [],
   "source": []
  },
  {
   "cell_type": "markdown",
   "metadata": {},
   "source": [
    "5. What are the chance of picking a blue ball and a red ball?  \n",
    "   $ P(B\\;and\\;R) = P(B) \\times P(R|B) + P(R) \\times P(B|R) $  \n",
    "   $ = \\frac{3}{10} + \\frac{3}{10} = \\frac{6}{10} $\n",
    "\n",
    "   $ \\therefore P(\\text{Blue ball and Red ball}) = \\frac{6}{10} $\n"
   ]
  },
  {
   "cell_type": "code",
   "execution_count": null,
   "metadata": {},
   "outputs": [],
   "source": []
  },
  {
   "cell_type": "markdown",
   "metadata": {},
   "source": [
    "### 😳 <span style=\"color: #A084E8\">Question</span>\n",
    "\n",
    "The probabilities that student A, B, and C pass a test are 0.2, 0.3 and 0.4 respectively.\n",
    "\n",
    "Find the probability that exactly two of them pass the test.\n"
   ]
  },
  {
   "cell_type": "code",
   "execution_count": 1,
   "metadata": {},
   "outputs": [
    {
     "data": {
      "text/plain": [
       "0.188"
      ]
     },
     "execution_count": 1,
     "metadata": {},
     "output_type": "execute_result"
    }
   ],
   "source": [
    "0.188"
   ]
  },
  {
   "cell_type": "code",
   "execution_count": 2,
   "metadata": {},
   "outputs": [
    {
     "data": {
      "text/plain": [
       "0.188"
      ]
     },
     "execution_count": 2,
     "metadata": {},
     "output_type": "execute_result"
    }
   ],
   "source": [
    "0.2 * 0.3 * (1 - 0.4) + 0.2 * (1 - 0.3) * 0.4 + (1 - 0.2) * 0.3 * 0.4"
   ]
  },
  {
   "cell_type": "markdown",
   "metadata": {},
   "source": [
    "#### A.2 Conditional Probability\n",
    "\n",
    "$P(A\\;and\\;B) = P(B) \\times P(A|B) \\\\$\n",
    "\n",
    "$P(A|B) = \\frac{P(A\\;and\\;B)}{P(B)} \\\\$\n"
   ]
  },
  {
   "cell_type": "code",
   "execution_count": null,
   "metadata": {},
   "outputs": [],
   "source": []
  },
  {
   "cell_type": "markdown",
   "metadata": {},
   "source": [
    "### 😳 <span style=\"color: #A084E8\">Question</span>\n",
    "\n",
    "The probabilities that student A, B, and C pass a test are 0.2, 0.3 and 0.4 respectively.\n",
    "\n",
    "Given that exactly two of them pass the test, find the probability that student A passes the test.\n"
   ]
  },
  {
   "cell_type": "markdown",
   "metadata": {},
   "source": [
    "##### Hints\n",
    "\n",
    "P(A) = Student A passes the test  \n",
    "P(B) = Exactly two of them pass the test  \n",
    "P(A and B) = Exactly two of them pass the test and A passes the test  \n",
    "P(A|B) = The probability that student A passes the test, given that exactly two of them pass the test.\n"
   ]
  },
  {
   "cell_type": "code",
   "execution_count": 3,
   "metadata": {},
   "outputs": [
    {
     "data": {
      "text/plain": [
       "0.489"
      ]
     },
     "execution_count": 3,
     "metadata": {},
     "output_type": "execute_result"
    }
   ],
   "source": [
    "0.489"
   ]
  },
  {
   "cell_type": "code",
   "execution_count": 4,
   "metadata": {},
   "outputs": [
    {
     "data": {
      "text/plain": [
       "0.48936170212765956"
      ]
     },
     "execution_count": 4,
     "metadata": {},
     "output_type": "execute_result"
    }
   ],
   "source": [
    "p_b = 0.188\n",
    "p_a_and_b = 0.2 * 0.3 * (1 - 0.4) + 0.2 * (1 - 0.3) * 0.4\n",
    "\n",
    "p_a_and_b / p_b"
   ]
  },
  {
   "cell_type": "markdown",
   "metadata": {},
   "source": [
    "#### A.3 Bayes' Theorem\n",
    "\n",
    "A way to find a probability when we know certain other probabilities.\n",
    "\n",
    "$$\n",
    "P(A|B) = \\frac{P(A)P(B|A)}{P(B)}\n",
    "$$\n",
    "\n",
    "Which tells us: `how often A happens given that B happens, written P(A|B),`\n",
    "\n",
    "When we know:\n",
    "`how often B happens given that A happens, written P(B|A)`  \n",
    "and `how likely A is on its own, written P(A)`  \n",
    "and `how likely B is on its own, written P(B)`\n"
   ]
  },
  {
   "cell_type": "markdown",
   "metadata": {},
   "source": [
    "For example: To picnic or not\n",
    "\n",
    "- There is 50% that it will rain when it is cloudy.\n",
    "- 40% of days start cloudy.\n",
    "- 10% of days are sunny.\n",
    "\n",
    "**What is the chance of raining when the morning is cloudy?**\n",
    "\n",
    "$ P(Rain|Cloud) = \\frac{P(Rain)P(Cloud|Rain)}{P(Cloud)} $  \n",
    "$ P(Rain|Cloud) = \\frac{0.1 \\times 0.5}{0.4} = 0.125 $\n"
   ]
  },
  {
   "cell_type": "markdown",
   "metadata": {},
   "source": [
    "### 😳 <span style=\"color: #A084E8\">Question</span>\n",
    "\n",
    "False Positives and False Negatives\n",
    "\n",
    "- For people that have allergy, the allegery test gives `positive` 80% of the time\n",
    "- For people that `do not` have allergy, the test gives `positive` 10% of the time\n",
    "- There are 1% of people have the allergy\n",
    "\n",
    "**If you get a `positive` test result, what are the chances that you really have the allergy?**\n"
   ]
  },
  {
   "cell_type": "code",
   "execution_count": 5,
   "metadata": {},
   "outputs": [
    {
     "data": {
      "text/plain": [
       "0.0748"
      ]
     },
     "execution_count": 5,
     "metadata": {},
     "output_type": "execute_result"
    }
   ],
   "source": [
    "0.0748"
   ]
  },
  {
   "cell_type": "markdown",
   "metadata": {},
   "source": [
    "Hint:\n",
    "\n",
    "$$\n",
    "P(A|B) = \\frac{P(A)P(B|A)}{P(A)P(B|A) + P(¬A)P(B|¬A)}\n",
    "$$\n"
   ]
  },
  {
   "cell_type": "code",
   "execution_count": null,
   "metadata": {},
   "outputs": [],
   "source": []
  },
  {
   "cell_type": "markdown",
   "metadata": {},
   "source": [
    "$ P(\\text{Positive}) = 1\\% \\times 80\\% + 99\\% \\times 10\\% = 10.7\\% $  \n",
    "$ P(\\text{Allergy|Positive}) = \\frac{1\\% \\times 80\\%}{10.7\\%} = 7.48\\% $\n"
   ]
  },
  {
   "cell_type": "markdown",
   "metadata": {},
   "source": []
  },
  {
   "cell_type": "markdown",
   "metadata": {},
   "source": [
    "- The probability of a work of literary fiction published between 1960 and 2010 being written by Thomas is `0.001%`.\n",
    "- A test can identify a novel as being written by Thomas is `90%` of the time.\n",
    "- `1%` of the time, the test mistakenly attributes the work to Thomas.\n",
    "\n",
    "**What is the probability that a novel was written by Thomas if the test identify Thomas as the writer?**\n"
   ]
  },
  {
   "cell_type": "markdown",
   "metadata": {},
   "source": [
    "$$\n",
    "P(T|✅) = \\frac{P(T)P(✅|T)}{P(T)P(✅|T)+P(¬T)P(✅|¬T)}\n",
    "$$\n"
   ]
  },
  {
   "cell_type": "code",
   "execution_count": 6,
   "metadata": {},
   "outputs": [
    {
     "data": {
      "text/plain": [
       "0.000899199712256092"
      ]
     },
     "execution_count": 6,
     "metadata": {},
     "output_type": "execute_result"
    }
   ],
   "source": [
    "p_thomas = 0.001 / 100\n",
    "p_positive = 0.9\n",
    "p_false_positive = 0.01\n",
    "\n",
    "p_positive * p_thomas / (p_positive * p_thomas + p_false_positive * (1 - p_thomas))"
   ]
  },
  {
   "cell_type": "markdown",
   "metadata": {},
   "source": [
    "Bayes’s rule produces the following answer: the probability that Pynchon is indeed the author of the novel given a positive test is roughly one tenth of one percent.  \n",
    "While this is considerably higher than the baseline of one hundredth of one percent, it seems underwhelming given the stated accuracy (90 percent) of the test.\n"
   ]
  },
  {
   "cell_type": "markdown",
   "metadata": {},
   "source": [
    "## B. Bayes's Rule and Authorship Attribution\n"
   ]
  },
  {
   "cell_type": "markdown",
   "metadata": {},
   "source": [
    "#### B.1 Background\n",
    "\n",
    "- There are 12 essays, out of 85 essays collectively known as _The Federalist Papers_, which have disputed authorship.\n",
    "- These 12 essays were either written by _Alexander Hamilton_ or _James Madison_.\n",
    "\n",
    "**What is the probability that a specific essay is written by _Hamilton_ or _Madison_?**\n",
    "\n",
    "- Assume that a disputed essay can be **50%** written by _Hamilton_ and **50%** by _Madison_.\n"
   ]
  },
  {
   "cell_type": "code",
   "execution_count": 7,
   "metadata": {},
   "outputs": [],
   "source": [
    "import pandas as pd\n",
    "import numpy as np"
   ]
  },
  {
   "cell_type": "markdown",
   "metadata": {},
   "source": [
    "### 📈 <span style=\"color: #A084E8\">Summary of the dataset</span>\n",
    "\n",
    "- 107 rows x 11501 columns\n",
    "- 107 articles\n",
    "- 11,500 columns for the word frequency\n",
    "- 1 column for the target: **AUTHOR**\n"
   ]
  },
  {
   "cell_type": "code",
   "execution_count": 8,
   "metadata": {},
   "outputs": [
    {
     "data": {
      "text/html": [
       "<div>\n",
       "<style scoped>\n",
       "    .dataframe tbody tr th:only-of-type {\n",
       "        vertical-align: middle;\n",
       "    }\n",
       "\n",
       "    .dataframe tbody tr th {\n",
       "        vertical-align: top;\n",
       "    }\n",
       "\n",
       "    .dataframe thead th {\n",
       "        text-align: right;\n",
       "    }\n",
       "</style>\n",
       "<table border=\"1\" class=\"dataframe\">\n",
       "  <thead>\n",
       "    <tr style=\"text-align: right;\">\n",
       "      <th></th>\n",
       "      <th>000</th>\n",
       "      <th>1</th>\n",
       "      <th>10</th>\n",
       "      <th>100</th>\n",
       "      <th>104</th>\n",
       "      <th>105</th>\n",
       "      <th>109</th>\n",
       "      <th>11</th>\n",
       "      <th>114</th>\n",
       "      <th>115</th>\n",
       "      <th>...</th>\n",
       "      <th>young</th>\n",
       "      <th>your</th>\n",
       "      <th>yourself</th>\n",
       "      <th>yourselves</th>\n",
       "      <th>zaleucus</th>\n",
       "      <th>zeal</th>\n",
       "      <th>zealand</th>\n",
       "      <th>zealous</th>\n",
       "      <th>zelden</th>\n",
       "      <th>AUTHOR</th>\n",
       "    </tr>\n",
       "  </thead>\n",
       "  <tbody>\n",
       "    <tr>\n",
       "      <th>1</th>\n",
       "      <td>0</td>\n",
       "      <td>2</td>\n",
       "      <td>0</td>\n",
       "      <td>0</td>\n",
       "      <td>0</td>\n",
       "      <td>0</td>\n",
       "      <td>0</td>\n",
       "      <td>0</td>\n",
       "      <td>0</td>\n",
       "      <td>0</td>\n",
       "      <td>...</td>\n",
       "      <td>0</td>\n",
       "      <td>10</td>\n",
       "      <td>0</td>\n",
       "      <td>0</td>\n",
       "      <td>0</td>\n",
       "      <td>3</td>\n",
       "      <td>0</td>\n",
       "      <td>0</td>\n",
       "      <td>0</td>\n",
       "      <td>HAMILTON</td>\n",
       "    </tr>\n",
       "    <tr>\n",
       "      <th>2</th>\n",
       "      <td>0</td>\n",
       "      <td>0</td>\n",
       "      <td>0</td>\n",
       "      <td>0</td>\n",
       "      <td>0</td>\n",
       "      <td>0</td>\n",
       "      <td>0</td>\n",
       "      <td>0</td>\n",
       "      <td>0</td>\n",
       "      <td>0</td>\n",
       "      <td>...</td>\n",
       "      <td>0</td>\n",
       "      <td>0</td>\n",
       "      <td>0</td>\n",
       "      <td>0</td>\n",
       "      <td>0</td>\n",
       "      <td>0</td>\n",
       "      <td>0</td>\n",
       "      <td>0</td>\n",
       "      <td>0</td>\n",
       "      <td>JAY</td>\n",
       "    </tr>\n",
       "    <tr>\n",
       "      <th>3</th>\n",
       "      <td>0</td>\n",
       "      <td>0</td>\n",
       "      <td>0</td>\n",
       "      <td>0</td>\n",
       "      <td>0</td>\n",
       "      <td>0</td>\n",
       "      <td>0</td>\n",
       "      <td>0</td>\n",
       "      <td>0</td>\n",
       "      <td>0</td>\n",
       "      <td>...</td>\n",
       "      <td>0</td>\n",
       "      <td>0</td>\n",
       "      <td>0</td>\n",
       "      <td>0</td>\n",
       "      <td>0</td>\n",
       "      <td>0</td>\n",
       "      <td>0</td>\n",
       "      <td>0</td>\n",
       "      <td>0</td>\n",
       "      <td>JAY</td>\n",
       "    </tr>\n",
       "    <tr>\n",
       "      <th>4</th>\n",
       "      <td>0</td>\n",
       "      <td>0</td>\n",
       "      <td>0</td>\n",
       "      <td>0</td>\n",
       "      <td>0</td>\n",
       "      <td>0</td>\n",
       "      <td>0</td>\n",
       "      <td>0</td>\n",
       "      <td>0</td>\n",
       "      <td>0</td>\n",
       "      <td>...</td>\n",
       "      <td>0</td>\n",
       "      <td>0</td>\n",
       "      <td>0</td>\n",
       "      <td>0</td>\n",
       "      <td>0</td>\n",
       "      <td>0</td>\n",
       "      <td>0</td>\n",
       "      <td>0</td>\n",
       "      <td>0</td>\n",
       "      <td>JAY</td>\n",
       "    </tr>\n",
       "    <tr>\n",
       "      <th>5</th>\n",
       "      <td>0</td>\n",
       "      <td>0</td>\n",
       "      <td>0</td>\n",
       "      <td>0</td>\n",
       "      <td>0</td>\n",
       "      <td>0</td>\n",
       "      <td>0</td>\n",
       "      <td>0</td>\n",
       "      <td>0</td>\n",
       "      <td>0</td>\n",
       "      <td>...</td>\n",
       "      <td>1</td>\n",
       "      <td>3</td>\n",
       "      <td>0</td>\n",
       "      <td>1</td>\n",
       "      <td>0</td>\n",
       "      <td>0</td>\n",
       "      <td>0</td>\n",
       "      <td>0</td>\n",
       "      <td>0</td>\n",
       "      <td>JAY</td>\n",
       "    </tr>\n",
       "  </tbody>\n",
       "</table>\n",
       "<p>5 rows × 11501 columns</p>\n",
       "</div>"
      ],
      "text/plain": [
       "   000  1  10  100  104  105  109  11  114  115  ...  young  your  yourself  \\\n",
       "1    0  2   0    0    0    0    0   0    0    0  ...      0    10         0   \n",
       "2    0  0   0    0    0    0    0   0    0    0  ...      0     0         0   \n",
       "3    0  0   0    0    0    0    0   0    0    0  ...      0     0         0   \n",
       "4    0  0   0    0    0    0    0   0    0    0  ...      0     0         0   \n",
       "5    0  0   0    0    0    0    0   0    0    0  ...      1     3         0   \n",
       "\n",
       "   yourselves  zaleucus  zeal  zealand  zealous  zelden    AUTHOR  \n",
       "1           0         0     3        0        0       0  HAMILTON  \n",
       "2           0         0     0        0        0       0       JAY  \n",
       "3           0         0     0        0        0       0       JAY  \n",
       "4           0         0     0        0        0       0       JAY  \n",
       "5           1         0     0        0        0       0       JAY  \n",
       "\n",
       "[5 rows x 11501 columns]"
      ]
     },
     "execution_count": 8,
     "metadata": {},
     "output_type": "execute_result"
    }
   ],
   "source": [
    "# load the csv\n",
    "df = pd.read_csv(\"data/federalist-papers.csv\", index_col=0)\n",
    "df.head()"
   ]
  },
  {
   "cell_type": "code",
   "execution_count": 9,
   "metadata": {},
   "outputs": [
    {
     "data": {
      "text/plain": [
       "AUTHOR\n",
       "HAMILTON                51\n",
       "MADISON                 36\n",
       "HAMILTON OR MADISON     12\n",
       "JAY                      5\n",
       "HAMILTON AND MADISON     3\n",
       "Name: count, dtype: int64"
      ]
     },
     "execution_count": 9,
     "metadata": {},
     "output_type": "execute_result"
    }
   ],
   "source": [
    "# 5 distinct values in the target column\n",
    "# `HAMILTON OR MADISON` are the disputed essays\n",
    "df[\"AUTHOR\"].value_counts()"
   ]
  },
  {
   "cell_type": "code",
   "execution_count": 10,
   "metadata": {},
   "outputs": [
    {
     "data": {
      "text/html": [
       "<div>\n",
       "<style scoped>\n",
       "    .dataframe tbody tr th:only-of-type {\n",
       "        vertical-align: middle;\n",
       "    }\n",
       "\n",
       "    .dataframe tbody tr th {\n",
       "        vertical-align: top;\n",
       "    }\n",
       "\n",
       "    .dataframe thead th {\n",
       "        text-align: right;\n",
       "    }\n",
       "</style>\n",
       "<table border=\"1\" class=\"dataframe\">\n",
       "  <thead>\n",
       "    <tr style=\"text-align: right;\">\n",
       "      <th></th>\n",
       "      <th>upon</th>\n",
       "      <th>the</th>\n",
       "      <th>state</th>\n",
       "      <th>enough</th>\n",
       "      <th>while</th>\n",
       "    </tr>\n",
       "  </thead>\n",
       "  <tbody>\n",
       "    <tr>\n",
       "      <th>1</th>\n",
       "      <td>6</td>\n",
       "      <td>133</td>\n",
       "      <td>6</td>\n",
       "      <td>1</td>\n",
       "      <td>0</td>\n",
       "    </tr>\n",
       "    <tr>\n",
       "      <th>2</th>\n",
       "      <td>1</td>\n",
       "      <td>107</td>\n",
       "      <td>1</td>\n",
       "      <td>0</td>\n",
       "      <td>1</td>\n",
       "    </tr>\n",
       "    <tr>\n",
       "      <th>3</th>\n",
       "      <td>0</td>\n",
       "      <td>93</td>\n",
       "      <td>8</td>\n",
       "      <td>0</td>\n",
       "      <td>0</td>\n",
       "    </tr>\n",
       "    <tr>\n",
       "      <th>4</th>\n",
       "      <td>0</td>\n",
       "      <td>86</td>\n",
       "      <td>6</td>\n",
       "      <td>0</td>\n",
       "      <td>0</td>\n",
       "    </tr>\n",
       "    <tr>\n",
       "      <th>5</th>\n",
       "      <td>0</td>\n",
       "      <td>66</td>\n",
       "      <td>2</td>\n",
       "      <td>0</td>\n",
       "      <td>0</td>\n",
       "    </tr>\n",
       "    <tr>\n",
       "      <th>...</th>\n",
       "      <td>...</td>\n",
       "      <td>...</td>\n",
       "      <td>...</td>\n",
       "      <td>...</td>\n",
       "      <td>...</td>\n",
       "    </tr>\n",
       "    <tr>\n",
       "      <th>302</th>\n",
       "      <td>0</td>\n",
       "      <td>280</td>\n",
       "      <td>4</td>\n",
       "      <td>0</td>\n",
       "      <td>0</td>\n",
       "    </tr>\n",
       "    <tr>\n",
       "      <th>201</th>\n",
       "      <td>1</td>\n",
       "      <td>216</td>\n",
       "      <td>3</td>\n",
       "      <td>1</td>\n",
       "      <td>0</td>\n",
       "    </tr>\n",
       "    <tr>\n",
       "      <th>206</th>\n",
       "      <td>4</td>\n",
       "      <td>238</td>\n",
       "      <td>0</td>\n",
       "      <td>0</td>\n",
       "      <td>1</td>\n",
       "    </tr>\n",
       "    <tr>\n",
       "      <th>210</th>\n",
       "      <td>0</td>\n",
       "      <td>267</td>\n",
       "      <td>5</td>\n",
       "      <td>0</td>\n",
       "      <td>0</td>\n",
       "    </tr>\n",
       "    <tr>\n",
       "      <th>315</th>\n",
       "      <td>0</td>\n",
       "      <td>136</td>\n",
       "      <td>3</td>\n",
       "      <td>0</td>\n",
       "      <td>0</td>\n",
       "    </tr>\n",
       "  </tbody>\n",
       "</table>\n",
       "<p>107 rows × 5 columns</p>\n",
       "</div>"
      ],
      "text/plain": [
       "     upon  the  state  enough  while\n",
       "1       6  133      6       1      0\n",
       "2       1  107      1       0      1\n",
       "3       0   93      8       0      0\n",
       "4       0   86      6       0      0\n",
       "5       0   66      2       0      0\n",
       "..    ...  ...    ...     ...    ...\n",
       "302     0  280      4       0      0\n",
       "201     1  216      3       1      0\n",
       "206     4  238      0       0      1\n",
       "210     0  267      5       0      0\n",
       "315     0  136      3       0      0\n",
       "\n",
       "[107 rows x 5 columns]"
      ]
     },
     "execution_count": 10,
     "metadata": {},
     "output_type": "execute_result"
    }
   ],
   "source": [
    "# \"function\" words that have no strong connection between subject matter addressed by a piece of writing\n",
    "words_of_interest = [\"upon\", \"the\", \"state\", \"enough\", \"while\"]\n",
    "df[words_of_interest]"
   ]
  },
  {
   "cell_type": "code",
   "execution_count": 11,
   "metadata": {},
   "outputs": [
    {
     "data": {
      "text/html": [
       "<div>\n",
       "<style scoped>\n",
       "    .dataframe tbody tr th:only-of-type {\n",
       "        vertical-align: middle;\n",
       "    }\n",
       "\n",
       "    .dataframe tbody tr th {\n",
       "        vertical-align: top;\n",
       "    }\n",
       "\n",
       "    .dataframe thead th {\n",
       "        text-align: right;\n",
       "    }\n",
       "</style>\n",
       "<table border=\"1\" class=\"dataframe\">\n",
       "  <thead>\n",
       "    <tr style=\"text-align: right;\">\n",
       "      <th></th>\n",
       "      <th>000</th>\n",
       "      <th>1</th>\n",
       "      <th>10</th>\n",
       "      <th>100</th>\n",
       "      <th>104</th>\n",
       "      <th>105</th>\n",
       "      <th>109</th>\n",
       "      <th>11</th>\n",
       "      <th>114</th>\n",
       "      <th>115</th>\n",
       "      <th>...</th>\n",
       "      <th>young</th>\n",
       "      <th>your</th>\n",
       "      <th>yourself</th>\n",
       "      <th>yourselves</th>\n",
       "      <th>zaleucus</th>\n",
       "      <th>zeal</th>\n",
       "      <th>zealand</th>\n",
       "      <th>zealous</th>\n",
       "      <th>zelden</th>\n",
       "      <th>AUTHOR</th>\n",
       "    </tr>\n",
       "  </thead>\n",
       "  <tbody>\n",
       "    <tr>\n",
       "      <th>68</th>\n",
       "      <td>0</td>\n",
       "      <td>2</td>\n",
       "      <td>0</td>\n",
       "      <td>0</td>\n",
       "      <td>0</td>\n",
       "      <td>0</td>\n",
       "      <td>0</td>\n",
       "      <td>0</td>\n",
       "      <td>0</td>\n",
       "      <td>0</td>\n",
       "      <td>...</td>\n",
       "      <td>0</td>\n",
       "      <td>0</td>\n",
       "      <td>0</td>\n",
       "      <td>0</td>\n",
       "      <td>0</td>\n",
       "      <td>0</td>\n",
       "      <td>0</td>\n",
       "      <td>0</td>\n",
       "      <td>0</td>\n",
       "      <td>HAMILTON</td>\n",
       "    </tr>\n",
       "    <tr>\n",
       "      <th>36</th>\n",
       "      <td>0</td>\n",
       "      <td>2</td>\n",
       "      <td>0</td>\n",
       "      <td>0</td>\n",
       "      <td>0</td>\n",
       "      <td>0</td>\n",
       "      <td>0</td>\n",
       "      <td>0</td>\n",
       "      <td>0</td>\n",
       "      <td>0</td>\n",
       "      <td>...</td>\n",
       "      <td>0</td>\n",
       "      <td>0</td>\n",
       "      <td>0</td>\n",
       "      <td>0</td>\n",
       "      <td>0</td>\n",
       "      <td>0</td>\n",
       "      <td>0</td>\n",
       "      <td>0</td>\n",
       "      <td>0</td>\n",
       "      <td>HAMILTON</td>\n",
       "    </tr>\n",
       "    <tr>\n",
       "      <th>74</th>\n",
       "      <td>0</td>\n",
       "      <td>0</td>\n",
       "      <td>0</td>\n",
       "      <td>0</td>\n",
       "      <td>0</td>\n",
       "      <td>0</td>\n",
       "      <td>0</td>\n",
       "      <td>0</td>\n",
       "      <td>0</td>\n",
       "      <td>0</td>\n",
       "      <td>...</td>\n",
       "      <td>0</td>\n",
       "      <td>0</td>\n",
       "      <td>0</td>\n",
       "      <td>0</td>\n",
       "      <td>0</td>\n",
       "      <td>0</td>\n",
       "      <td>0</td>\n",
       "      <td>0</td>\n",
       "      <td>0</td>\n",
       "      <td>HAMILTON</td>\n",
       "    </tr>\n",
       "    <tr>\n",
       "      <th>63</th>\n",
       "      <td>0</td>\n",
       "      <td>0</td>\n",
       "      <td>0</td>\n",
       "      <td>0</td>\n",
       "      <td>0</td>\n",
       "      <td>0</td>\n",
       "      <td>0</td>\n",
       "      <td>0</td>\n",
       "      <td>0</td>\n",
       "      <td>0</td>\n",
       "      <td>...</td>\n",
       "      <td>0</td>\n",
       "      <td>0</td>\n",
       "      <td>0</td>\n",
       "      <td>0</td>\n",
       "      <td>0</td>\n",
       "      <td>0</td>\n",
       "      <td>0</td>\n",
       "      <td>0</td>\n",
       "      <td>0</td>\n",
       "      <td>HAMILTON OR MADISON</td>\n",
       "    </tr>\n",
       "    <tr>\n",
       "      <th>40</th>\n",
       "      <td>0</td>\n",
       "      <td>0</td>\n",
       "      <td>0</td>\n",
       "      <td>0</td>\n",
       "      <td>0</td>\n",
       "      <td>0</td>\n",
       "      <td>0</td>\n",
       "      <td>0</td>\n",
       "      <td>0</td>\n",
       "      <td>0</td>\n",
       "      <td>...</td>\n",
       "      <td>0</td>\n",
       "      <td>0</td>\n",
       "      <td>0</td>\n",
       "      <td>0</td>\n",
       "      <td>0</td>\n",
       "      <td>1</td>\n",
       "      <td>0</td>\n",
       "      <td>0</td>\n",
       "      <td>0</td>\n",
       "      <td>MADISON</td>\n",
       "    </tr>\n",
       "    <tr>\n",
       "      <th>54</th>\n",
       "      <td>0</td>\n",
       "      <td>0</td>\n",
       "      <td>0</td>\n",
       "      <td>0</td>\n",
       "      <td>0</td>\n",
       "      <td>0</td>\n",
       "      <td>0</td>\n",
       "      <td>0</td>\n",
       "      <td>0</td>\n",
       "      <td>0</td>\n",
       "      <td>...</td>\n",
       "      <td>0</td>\n",
       "      <td>0</td>\n",
       "      <td>0</td>\n",
       "      <td>0</td>\n",
       "      <td>0</td>\n",
       "      <td>0</td>\n",
       "      <td>0</td>\n",
       "      <td>0</td>\n",
       "      <td>0</td>\n",
       "      <td>HAMILTON OR MADISON</td>\n",
       "    </tr>\n",
       "  </tbody>\n",
       "</table>\n",
       "<p>6 rows × 11501 columns</p>\n",
       "</div>"
      ],
      "text/plain": [
       "    000  1  10  100  104  105  109  11  114  115  ...  young  your  yourself  \\\n",
       "68    0  2   0    0    0    0    0   0    0    0  ...      0     0         0   \n",
       "36    0  2   0    0    0    0    0   0    0    0  ...      0     0         0   \n",
       "74    0  0   0    0    0    0    0   0    0    0  ...      0     0         0   \n",
       "63    0  0   0    0    0    0    0   0    0    0  ...      0     0         0   \n",
       "40    0  0   0    0    0    0    0   0    0    0  ...      0     0         0   \n",
       "54    0  0   0    0    0    0    0   0    0    0  ...      0     0         0   \n",
       "\n",
       "    yourselves  zaleucus  zeal  zealand  zealous  zelden               AUTHOR  \n",
       "68           0         0     0        0        0       0             HAMILTON  \n",
       "36           0         0     0        0        0       0             HAMILTON  \n",
       "74           0         0     0        0        0       0             HAMILTON  \n",
       "63           0         0     0        0        0       0  HAMILTON OR MADISON  \n",
       "40           0         0     1        0        0       0              MADISON  \n",
       "54           0         0     0        0        0       0  HAMILTON OR MADISON  \n",
       "\n",
       "[6 rows x 11501 columns]"
      ]
     },
     "execution_count": 11,
     "metadata": {},
     "output_type": "execute_result"
    }
   ],
   "source": [
    "np.random.seed(1)  # fix a seed for reproducible random sampling\n",
    "# What is the purpose of .seed()?\n",
    "\n",
    "# \"Random\" sampling from the dataframe\n",
    "df.sample(6)"
   ]
  },
  {
   "cell_type": "code",
   "execution_count": 12,
   "metadata": {},
   "outputs": [
    {
     "name": "stdout",
     "output_type": "stream",
     "text": [
      "indices of disputed essays: Index([49, 50, 51, 52, 53, 54, 55, 56, 57, 58, 62, 63], dtype='int64')\n"
     ]
    }
   ],
   "source": [
    "# filter the essays with unknown authorship\n",
    "disputed_essays = df[df[\"AUTHOR\"] == \"HAMILTON OR MADISON\"].index\n",
    "print(\"indices of disputed essays:\", disputed_essays)\n",
    "\n",
    "assert len(disputed_essays) == 12\n",
    "assert set(disputed_essays) == {49, 50, 51, 52, 53, 54, 55, 56, 57, 58, 62, 63}"
   ]
  },
  {
   "cell_type": "code",
   "execution_count": 13,
   "metadata": {},
   "outputs": [
    {
     "data": {
      "text/plain": [
       "AUTHOR\n",
       "HAMILTON    51\n",
       "MADISON     36\n",
       "Name: count, dtype: int64"
      ]
     },
     "execution_count": 13,
     "metadata": {},
     "output_type": "execute_result"
    }
   ],
   "source": [
    "# select essays with known authorship: the undisputed essays of Madison and Hamilton\n",
    "df_known = df.loc[df[\"AUTHOR\"].isin((\"HAMILTON\", \"MADISON\"))]\n",
    "df_known[\"AUTHOR\"].value_counts()"
   ]
  },
  {
   "cell_type": "code",
   "execution_count": 14,
   "metadata": {},
   "outputs": [
    {
     "data": {
      "text/plain": [
       "AUTHOR\n",
       "HAMILTON    Axes(0.125,0.11;0.775x0.77)\n",
       "MADISON     Axes(0.125,0.11;0.775x0.77)\n",
       "Name: upon, dtype: object"
      ]
     },
     "execution_count": 14,
     "metadata": {},
     "output_type": "execute_result"
    },
    {
     "data": {
      "image/png": "[encoded data removed]",
      "text/plain": [
       "<Figure size 640x480 with 1 Axes>"
      ]
     },
     "metadata": {},
     "output_type": "display_data"
    }
   ],
   "source": [
    "# plot the frequency of \"upon\" used in the essays with known authorship\n",
    "df_known.groupby(\"AUTHOR\")[\"upon\"].plot.hist(\n",
    "    rwidth=0.9,\n",
    "    alpha=0.6,\n",
    "    range=(0, 22),\n",
    "    legend=True,\n",
    "    xlabel=\"Number of 'upon' used in a passage\",\n",
    ")"
   ]
  },
  {
   "cell_type": "markdown",
   "metadata": {},
   "source": [
    "### 😳 <span style=\"color: #A084E8\">Question</span>\n",
    "\n",
    "What are the functions of the parameters in `hist()`?\n",
    "\n",
    "```python\n",
    "df_known.groupby(\"AUTHOR\")[\"upon\"].plot.hist(\n",
    "    rwidth=0.9,\n",
    "    alpha=0.6,\n",
    "    range=(0, 22),\n",
    "    legend=True,\n",
    ")\n",
    "```\n"
   ]
  },
  {
   "cell_type": "code",
   "execution_count": 15,
   "metadata": {},
   "outputs": [
    {
     "data": {
      "text/plain": [
       "AUTHOR\n",
       "HAMILTON    Axes(0.125,0.11;0.775x0.77)\n",
       "MADISON     Axes(0.125,0.11;0.775x0.77)\n",
       "Name: upon, dtype: object"
      ]
     },
     "execution_count": 15,
     "metadata": {},
     "output_type": "execute_result"
    },
    {
     "data": {
      "image/png": "[encoded data removed]",
      "text/plain": [
       "<Figure size 640x480 with 1 Axes>"
      ]
     },
     "metadata": {},
     "output_type": "display_data"
    }
   ],
   "source": [
    "df_known.groupby(\"AUTHOR\")[\"upon\"].plot.hist()"
   ]
  },
  {
   "cell_type": "markdown",
   "metadata": {},
   "source": [
    "### 😳 <span style=\"color: #A084E8\">Question</span>\n",
    "\n",
    "What is `groupby()` doing here?\n"
   ]
  },
  {
   "cell_type": "code",
   "execution_count": 16,
   "metadata": {},
   "outputs": [
    {
     "data": {
      "text/plain": [
       "<pandas.core.groupby.generic.DataFrameGroupBy object at 0x7f4f155d3510>"
      ]
     },
     "execution_count": 16,
     "metadata": {},
     "output_type": "execute_result"
    }
   ],
   "source": [
    "# What is the purpose of groupby()?\n",
    "df_known.groupby(\"AUTHOR\")\n",
    "# list(df_known.groupby(\"AUTHOR\"))\n",
    "# list(df_known.groupby(\"AUTHOR\"))[0][1]"
   ]
  },
  {
   "cell_type": "code",
   "execution_count": 17,
   "metadata": {},
   "outputs": [
    {
     "data": {
      "text/html": [
       "<div>\n",
       "<style scoped>\n",
       "    .dataframe tbody tr th:only-of-type {\n",
       "        vertical-align: middle;\n",
       "    }\n",
       "\n",
       "    .dataframe tbody tr th {\n",
       "        vertical-align: top;\n",
       "    }\n",
       "\n",
       "    .dataframe thead th {\n",
       "        text-align: right;\n",
       "    }\n",
       "</style>\n",
       "<table border=\"1\" class=\"dataframe\">\n",
       "  <thead>\n",
       "    <tr style=\"text-align: right;\">\n",
       "      <th></th>\n",
       "      <th>count</th>\n",
       "      <th>mean</th>\n",
       "      <th>std</th>\n",
       "      <th>min</th>\n",
       "      <th>25%</th>\n",
       "      <th>50%</th>\n",
       "      <th>75%</th>\n",
       "      <th>max</th>\n",
       "    </tr>\n",
       "    <tr>\n",
       "      <th>AUTHOR</th>\n",
       "      <th></th>\n",
       "      <th></th>\n",
       "      <th></th>\n",
       "      <th></th>\n",
       "      <th></th>\n",
       "      <th></th>\n",
       "      <th></th>\n",
       "      <th></th>\n",
       "    </tr>\n",
       "  </thead>\n",
       "  <tbody>\n",
       "    <tr>\n",
       "      <th>HAMILTON</th>\n",
       "      <td>51.0</td>\n",
       "      <td>7.333333</td>\n",
       "      <td>4.008325</td>\n",
       "      <td>2.0</td>\n",
       "      <td>4.0</td>\n",
       "      <td>6.0</td>\n",
       "      <td>10.00</td>\n",
       "      <td>20.0</td>\n",
       "    </tr>\n",
       "    <tr>\n",
       "      <th>MADISON</th>\n",
       "      <td>36.0</td>\n",
       "      <td>1.250000</td>\n",
       "      <td>1.574348</td>\n",
       "      <td>0.0</td>\n",
       "      <td>0.0</td>\n",
       "      <td>0.5</td>\n",
       "      <td>2.25</td>\n",
       "      <td>5.0</td>\n",
       "    </tr>\n",
       "  </tbody>\n",
       "</table>\n",
       "</div>"
      ],
      "text/plain": [
       "          count      mean       std  min  25%  50%    75%   max\n",
       "AUTHOR                                                         \n",
       "HAMILTON   51.0  7.333333  4.008325  2.0  4.0  6.0  10.00  20.0\n",
       "MADISON    36.0  1.250000  1.574348  0.0  0.0  0.5   2.25   5.0"
      ]
     },
     "execution_count": 17,
     "metadata": {},
     "output_type": "execute_result"
    }
   ],
   "source": [
    "df_known.groupby(\"AUTHOR\")[\"upon\"].describe()"
   ]
  },
  {
   "cell_type": "code",
   "execution_count": 18,
   "metadata": {},
   "outputs": [
    {
     "name": "stdout",
     "output_type": "stream",
     "text": [
      "AUTHOR\n",
      "HAMILTON    1.0\n",
      "MADISON     0.5\n",
      "Name: upon, dtype: float64\n"
     ]
    }
   ],
   "source": [
    "proportions = df_known.groupby(\"AUTHOR\")[\"upon\"].apply(\n",
    "    lambda upon_counts: (upon_counts > 0).mean()\n",
    ")\n",
    "\n",
    "print(proportions)"
   ]
  },
  {
   "cell_type": "markdown",
   "metadata": {},
   "source": [
    "### 😳 <span style=\"color: #A084E8\">Question</span>\n",
    "\n",
    "What are the purposes of `lambda` and `mean` here?\n"
   ]
  },
  {
   "cell_type": "code",
   "execution_count": 19,
   "metadata": {},
   "outputs": [
    {
     "name": "stdout",
     "output_type": "stream",
     "text": [
      "AUTHOR\n",
      "HAMILTON    1.0\n",
      "MADISON     0.5\n",
      "Name: upon, dtype: float64\n"
     ]
    }
   ],
   "source": [
    "def anonymous_function(upon_counts):\n",
    "    return upon_counts > 0\n",
    "\n",
    "\n",
    "proportions_with_function = (\n",
    "    df_known.groupby(\"AUTHOR\")[\"upon\"].apply(anonymous_function).mean()\n",
    ")\n",
    "print(proportions)"
   ]
  },
  {
   "cell_type": "code",
   "execution_count": 20,
   "metadata": {},
   "outputs": [
    {
     "data": {
      "text/plain": [
       "<Axes: xlabel='AUTHOR'>"
      ]
     },
     "execution_count": 20,
     "metadata": {},
     "output_type": "execute_result"
    },
    {
     "data": {
      "image/png": "[encoded data removed]",
      "text/plain": [
       "<Figure size 640x480 with 1 Axes>"
      ]
     },
     "metadata": {},
     "output_type": "display_data"
    }
   ],
   "source": [
    "proportions.plot.bar(rot=0)"
   ]
  },
  {
   "cell_type": "markdown",
   "metadata": {},
   "source": [
    "### 🤔 <span style=\"color: #A084E8\">Possible conclusion</span>\n",
    "\n",
    "Observing the word `upon` one or more times in a disputed essay is more consistent with the hypothesis that the author is Hamilton than with the hypothesis that Madison is the author.\n",
    "\n",
    "But what is the preciseness of the conclusion?\n"
   ]
  },
  {
   "cell_type": "markdown",
   "metadata": {},
   "source": [
    "Applying Bayes's rule:\n",
    "\n",
    "$$\n",
    "Pr(H_{j}|E) = \\frac{Pr(E|H_{j})Pr(H_{j})}{\\sum^{K}_{k=1}Pr(E|H_{k})Pr(H_{k})}\n",
    "$$\n",
    "\n",
    "$$\n",
    "Pr(H|E) = \\frac{Pr(H|E)Pr(H)}{Pr(E|H)Pr(H)+Pr(E|¬H)Pr(¬H)}\n",
    "$$\n"
   ]
  },
  {
   "cell_type": "markdown",
   "metadata": {},
   "source": [
    "Suppose\n",
    "\n",
    "- P(E) = Observing the word `upon` one or more time in a disputed essay\n",
    "- P(H) = Hamilton wrote the disputed essay\n",
    "- P(E|H) = Hamilton wrote the disputed essay, the probability of it containing one or more occurrences of the word `upon` = 0.7\n",
    "- P(¬H) = Madison wrote the disputed essay = 0.5\n",
    "- P(E|¬H) = Madison wrote the disputed essay, the probability of it containing one or more occurrences of the word `upon` = 0.5\n",
    "\n",
    "$$ P(H|E) = \\frac{(0.7)(0.5)}{(0.7)(0.5)+(0.5)(0.5)} = 0.58$$\n"
   ]
  },
  {
   "cell_type": "markdown",
   "metadata": {},
   "source": [
    "## C. Random Variables and Probability Distributions\n"
   ]
  },
  {
   "cell_type": "code",
   "execution_count": 21,
   "metadata": {},
   "outputs": [
    {
     "data": {
      "text/html": [
       "<div>\n",
       "<style scoped>\n",
       "    .dataframe tbody tr th:only-of-type {\n",
       "        vertical-align: middle;\n",
       "    }\n",
       "\n",
       "    .dataframe tbody tr th {\n",
       "        vertical-align: top;\n",
       "    }\n",
       "\n",
       "    .dataframe thead th {\n",
       "        text-align: right;\n",
       "    }\n",
       "</style>\n",
       "<table border=\"1\" class=\"dataframe\">\n",
       "  <thead>\n",
       "    <tr style=\"text-align: right;\">\n",
       "      <th></th>\n",
       "      <th>000</th>\n",
       "      <th>1</th>\n",
       "      <th>10</th>\n",
       "      <th>100</th>\n",
       "      <th>104</th>\n",
       "      <th>105</th>\n",
       "      <th>109</th>\n",
       "      <th>11</th>\n",
       "      <th>114</th>\n",
       "      <th>115</th>\n",
       "      <th>...</th>\n",
       "      <th>young</th>\n",
       "      <th>your</th>\n",
       "      <th>yourself</th>\n",
       "      <th>yourselves</th>\n",
       "      <th>zaleucus</th>\n",
       "      <th>zeal</th>\n",
       "      <th>zealand</th>\n",
       "      <th>zealous</th>\n",
       "      <th>zelden</th>\n",
       "      <th>AUTHOR</th>\n",
       "    </tr>\n",
       "  </thead>\n",
       "  <tbody>\n",
       "    <tr>\n",
       "      <th>1</th>\n",
       "      <td>0.0</td>\n",
       "      <td>25.0</td>\n",
       "      <td>0.0</td>\n",
       "      <td>0.0</td>\n",
       "      <td>0.0</td>\n",
       "      <td>0.0</td>\n",
       "      <td>0.0</td>\n",
       "      <td>0.0</td>\n",
       "      <td>0.0</td>\n",
       "      <td>0.0</td>\n",
       "      <td>...</td>\n",
       "      <td>0.0</td>\n",
       "      <td>294.0</td>\n",
       "      <td>0.0</td>\n",
       "      <td>0.0</td>\n",
       "      <td>0.0</td>\n",
       "      <td>103.0</td>\n",
       "      <td>0.0</td>\n",
       "      <td>0.0</td>\n",
       "      <td>0.0</td>\n",
       "      <td>HAMILTON</td>\n",
       "    </tr>\n",
       "    <tr>\n",
       "      <th>2</th>\n",
       "      <td>0.0</td>\n",
       "      <td>0.0</td>\n",
       "      <td>0.0</td>\n",
       "      <td>0.0</td>\n",
       "      <td>0.0</td>\n",
       "      <td>0.0</td>\n",
       "      <td>0.0</td>\n",
       "      <td>0.0</td>\n",
       "      <td>0.0</td>\n",
       "      <td>0.0</td>\n",
       "      <td>...</td>\n",
       "      <td>0.0</td>\n",
       "      <td>0.0</td>\n",
       "      <td>0.0</td>\n",
       "      <td>0.0</td>\n",
       "      <td>0.0</td>\n",
       "      <td>0.0</td>\n",
       "      <td>0.0</td>\n",
       "      <td>0.0</td>\n",
       "      <td>0.0</td>\n",
       "      <td>JAY</td>\n",
       "    </tr>\n",
       "    <tr>\n",
       "      <th>3</th>\n",
       "      <td>0.0</td>\n",
       "      <td>0.0</td>\n",
       "      <td>0.0</td>\n",
       "      <td>0.0</td>\n",
       "      <td>0.0</td>\n",
       "      <td>0.0</td>\n",
       "      <td>0.0</td>\n",
       "      <td>0.0</td>\n",
       "      <td>0.0</td>\n",
       "      <td>0.0</td>\n",
       "      <td>...</td>\n",
       "      <td>0.0</td>\n",
       "      <td>0.0</td>\n",
       "      <td>0.0</td>\n",
       "      <td>0.0</td>\n",
       "      <td>0.0</td>\n",
       "      <td>0.0</td>\n",
       "      <td>0.0</td>\n",
       "      <td>0.0</td>\n",
       "      <td>0.0</td>\n",
       "      <td>JAY</td>\n",
       "    </tr>\n",
       "    <tr>\n",
       "      <th>4</th>\n",
       "      <td>0.0</td>\n",
       "      <td>0.0</td>\n",
       "      <td>0.0</td>\n",
       "      <td>0.0</td>\n",
       "      <td>0.0</td>\n",
       "      <td>0.0</td>\n",
       "      <td>0.0</td>\n",
       "      <td>0.0</td>\n",
       "      <td>0.0</td>\n",
       "      <td>0.0</td>\n",
       "      <td>...</td>\n",
       "      <td>0.0</td>\n",
       "      <td>0.0</td>\n",
       "      <td>0.0</td>\n",
       "      <td>0.0</td>\n",
       "      <td>0.0</td>\n",
       "      <td>0.0</td>\n",
       "      <td>0.0</td>\n",
       "      <td>0.0</td>\n",
       "      <td>0.0</td>\n",
       "      <td>JAY</td>\n",
       "    </tr>\n",
       "    <tr>\n",
       "      <th>5</th>\n",
       "      <td>0.0</td>\n",
       "      <td>0.0</td>\n",
       "      <td>0.0</td>\n",
       "      <td>0.0</td>\n",
       "      <td>0.0</td>\n",
       "      <td>0.0</td>\n",
       "      <td>0.0</td>\n",
       "      <td>0.0</td>\n",
       "      <td>0.0</td>\n",
       "      <td>0.0</td>\n",
       "      <td>...</td>\n",
       "      <td>333.0</td>\n",
       "      <td>88.0</td>\n",
       "      <td>0.0</td>\n",
       "      <td>1000.0</td>\n",
       "      <td>0.0</td>\n",
       "      <td>0.0</td>\n",
       "      <td>0.0</td>\n",
       "      <td>0.0</td>\n",
       "      <td>0.0</td>\n",
       "      <td>JAY</td>\n",
       "    </tr>\n",
       "  </tbody>\n",
       "</table>\n",
       "<p>5 rows × 11501 columns</p>\n",
       "</div>"
      ],
      "text/plain": [
       "   000     1   10  100  104  105  109   11  114  115  ...  young   your  \\\n",
       "1  0.0  25.0  0.0  0.0  0.0  0.0  0.0  0.0  0.0  0.0  ...    0.0  294.0   \n",
       "2  0.0   0.0  0.0  0.0  0.0  0.0  0.0  0.0  0.0  0.0  ...    0.0    0.0   \n",
       "3  0.0   0.0  0.0  0.0  0.0  0.0  0.0  0.0  0.0  0.0  ...    0.0    0.0   \n",
       "4  0.0   0.0  0.0  0.0  0.0  0.0  0.0  0.0  0.0  0.0  ...    0.0    0.0   \n",
       "5  0.0   0.0  0.0  0.0  0.0  0.0  0.0  0.0  0.0  0.0  ...  333.0   88.0   \n",
       "\n",
       "   yourself  yourselves  zaleucus   zeal  zealand  zealous  zelden    AUTHOR  \n",
       "1       0.0         0.0       0.0  103.0      0.0      0.0     0.0  HAMILTON  \n",
       "2       0.0         0.0       0.0    0.0      0.0      0.0     0.0       JAY  \n",
       "3       0.0         0.0       0.0    0.0      0.0      0.0     0.0       JAY  \n",
       "4       0.0         0.0       0.0    0.0      0.0      0.0     0.0       JAY  \n",
       "5       0.0      1000.0       0.0    0.0      0.0      0.0     0.0       JAY  \n",
       "\n",
       "[5 rows x 11501 columns]"
      ]
     },
     "execution_count": 21,
     "metadata": {},
     "output_type": "execute_result"
    }
   ],
   "source": [
    "df = pd.read_csv(\"data/federalist-papers.csv\", index_col=0)\n",
    "author = df[\"AUTHOR\"]  # save a copy of the author column\n",
    "df = df.drop(\"AUTHOR\", axis=1)  # remoe the author column\n",
    "df = df.divide(df.sum(axis=0))  # rate per 1 word\n",
    "df *= 1000  # transform from rate per 1 word to rate per 1,000 words\n",
    "df = df.round()\n",
    "df[\"AUTHOR\"] = author  # put author column back\n",
    "df.head()"
   ]
  },
  {
   "cell_type": "code",
   "execution_count": 39,
   "metadata": {},
   "outputs": [
    {
     "name": "stdout",
     "output_type": "stream",
     "text": [
      "000          7\n",
      "1           81\n",
      "10           8\n",
      "100          7\n",
      "104          1\n",
      "            ..\n",
      "zaleucus     1\n",
      "zeal        29\n",
      "zealand      1\n",
      "zealous      9\n",
      "zelden       1\n",
      "Length: 11500, dtype: int64\n"
     ]
    },
    {
     "data": {
      "text/html": [
       "<div>\n",
       "<style scoped>\n",
       "    .dataframe tbody tr th:only-of-type {\n",
       "        vertical-align: middle;\n",
       "    }\n",
       "\n",
       "    .dataframe tbody tr th {\n",
       "        vertical-align: top;\n",
       "    }\n",
       "\n",
       "    .dataframe thead th {\n",
       "        text-align: right;\n",
       "    }\n",
       "</style>\n",
       "<table border=\"1\" class=\"dataframe\">\n",
       "  <thead>\n",
       "    <tr style=\"text-align: right;\">\n",
       "      <th></th>\n",
       "      <th>000</th>\n",
       "      <th>1</th>\n",
       "      <th>10</th>\n",
       "      <th>100</th>\n",
       "      <th>104</th>\n",
       "      <th>105</th>\n",
       "      <th>109</th>\n",
       "      <th>11</th>\n",
       "      <th>114</th>\n",
       "      <th>115</th>\n",
       "      <th>...</th>\n",
       "      <th>you</th>\n",
       "      <th>young</th>\n",
       "      <th>your</th>\n",
       "      <th>yourself</th>\n",
       "      <th>yourselves</th>\n",
       "      <th>zaleucus</th>\n",
       "      <th>zeal</th>\n",
       "      <th>zealand</th>\n",
       "      <th>zealous</th>\n",
       "      <th>zelden</th>\n",
       "    </tr>\n",
       "  </thead>\n",
       "  <tbody>\n",
       "    <tr>\n",
       "      <th>1</th>\n",
       "      <td>0</td>\n",
       "      <td>2</td>\n",
       "      <td>0</td>\n",
       "      <td>0</td>\n",
       "      <td>0</td>\n",
       "      <td>0</td>\n",
       "      <td>0</td>\n",
       "      <td>0</td>\n",
       "      <td>0</td>\n",
       "      <td>0</td>\n",
       "      <td>...</td>\n",
       "      <td>7</td>\n",
       "      <td>0</td>\n",
       "      <td>10</td>\n",
       "      <td>0</td>\n",
       "      <td>0</td>\n",
       "      <td>0</td>\n",
       "      <td>3</td>\n",
       "      <td>0</td>\n",
       "      <td>0</td>\n",
       "      <td>0</td>\n",
       "    </tr>\n",
       "    <tr>\n",
       "      <th>2</th>\n",
       "      <td>0</td>\n",
       "      <td>0</td>\n",
       "      <td>0</td>\n",
       "      <td>0</td>\n",
       "      <td>0</td>\n",
       "      <td>0</td>\n",
       "      <td>0</td>\n",
       "      <td>0</td>\n",
       "      <td>0</td>\n",
       "      <td>0</td>\n",
       "      <td>...</td>\n",
       "      <td>0</td>\n",
       "      <td>0</td>\n",
       "      <td>0</td>\n",
       "      <td>0</td>\n",
       "      <td>0</td>\n",
       "      <td>0</td>\n",
       "      <td>0</td>\n",
       "      <td>0</td>\n",
       "      <td>0</td>\n",
       "      <td>0</td>\n",
       "    </tr>\n",
       "    <tr>\n",
       "      <th>3</th>\n",
       "      <td>0</td>\n",
       "      <td>0</td>\n",
       "      <td>0</td>\n",
       "      <td>0</td>\n",
       "      <td>0</td>\n",
       "      <td>0</td>\n",
       "      <td>0</td>\n",
       "      <td>0</td>\n",
       "      <td>0</td>\n",
       "      <td>0</td>\n",
       "      <td>...</td>\n",
       "      <td>0</td>\n",
       "      <td>0</td>\n",
       "      <td>0</td>\n",
       "      <td>0</td>\n",
       "      <td>0</td>\n",
       "      <td>0</td>\n",
       "      <td>0</td>\n",
       "      <td>0</td>\n",
       "      <td>0</td>\n",
       "      <td>0</td>\n",
       "    </tr>\n",
       "    <tr>\n",
       "      <th>4</th>\n",
       "      <td>0</td>\n",
       "      <td>0</td>\n",
       "      <td>0</td>\n",
       "      <td>0</td>\n",
       "      <td>0</td>\n",
       "      <td>0</td>\n",
       "      <td>0</td>\n",
       "      <td>0</td>\n",
       "      <td>0</td>\n",
       "      <td>0</td>\n",
       "      <td>...</td>\n",
       "      <td>1</td>\n",
       "      <td>0</td>\n",
       "      <td>0</td>\n",
       "      <td>0</td>\n",
       "      <td>0</td>\n",
       "      <td>0</td>\n",
       "      <td>0</td>\n",
       "      <td>0</td>\n",
       "      <td>0</td>\n",
       "      <td>0</td>\n",
       "    </tr>\n",
       "    <tr>\n",
       "      <th>5</th>\n",
       "      <td>0</td>\n",
       "      <td>0</td>\n",
       "      <td>0</td>\n",
       "      <td>0</td>\n",
       "      <td>0</td>\n",
       "      <td>0</td>\n",
       "      <td>0</td>\n",
       "      <td>0</td>\n",
       "      <td>0</td>\n",
       "      <td>0</td>\n",
       "      <td>...</td>\n",
       "      <td>1</td>\n",
       "      <td>1</td>\n",
       "      <td>3</td>\n",
       "      <td>0</td>\n",
       "      <td>1</td>\n",
       "      <td>0</td>\n",
       "      <td>0</td>\n",
       "      <td>0</td>\n",
       "      <td>0</td>\n",
       "      <td>0</td>\n",
       "    </tr>\n",
       "    <tr>\n",
       "      <th>...</th>\n",
       "      <td>...</td>\n",
       "      <td>...</td>\n",
       "      <td>...</td>\n",
       "      <td>...</td>\n",
       "      <td>...</td>\n",
       "      <td>...</td>\n",
       "      <td>...</td>\n",
       "      <td>...</td>\n",
       "      <td>...</td>\n",
       "      <td>...</td>\n",
       "      <td>...</td>\n",
       "      <td>...</td>\n",
       "      <td>...</td>\n",
       "      <td>...</td>\n",
       "      <td>...</td>\n",
       "      <td>...</td>\n",
       "      <td>...</td>\n",
       "      <td>...</td>\n",
       "      <td>...</td>\n",
       "      <td>...</td>\n",
       "      <td>...</td>\n",
       "    </tr>\n",
       "    <tr>\n",
       "      <th>302</th>\n",
       "      <td>4</td>\n",
       "      <td>0</td>\n",
       "      <td>0</td>\n",
       "      <td>7</td>\n",
       "      <td>0</td>\n",
       "      <td>0</td>\n",
       "      <td>0</td>\n",
       "      <td>0</td>\n",
       "      <td>0</td>\n",
       "      <td>0</td>\n",
       "      <td>...</td>\n",
       "      <td>1</td>\n",
       "      <td>0</td>\n",
       "      <td>0</td>\n",
       "      <td>0</td>\n",
       "      <td>0</td>\n",
       "      <td>0</td>\n",
       "      <td>0</td>\n",
       "      <td>0</td>\n",
       "      <td>0</td>\n",
       "      <td>0</td>\n",
       "    </tr>\n",
       "    <tr>\n",
       "      <th>201</th>\n",
       "      <td>0</td>\n",
       "      <td>0</td>\n",
       "      <td>2</td>\n",
       "      <td>0</td>\n",
       "      <td>0</td>\n",
       "      <td>0</td>\n",
       "      <td>0</td>\n",
       "      <td>0</td>\n",
       "      <td>0</td>\n",
       "      <td>0</td>\n",
       "      <td>...</td>\n",
       "      <td>0</td>\n",
       "      <td>0</td>\n",
       "      <td>0</td>\n",
       "      <td>0</td>\n",
       "      <td>0</td>\n",
       "      <td>0</td>\n",
       "      <td>0</td>\n",
       "      <td>0</td>\n",
       "      <td>0</td>\n",
       "      <td>0</td>\n",
       "    </tr>\n",
       "    <tr>\n",
       "      <th>206</th>\n",
       "      <td>0</td>\n",
       "      <td>2</td>\n",
       "      <td>0</td>\n",
       "      <td>0</td>\n",
       "      <td>0</td>\n",
       "      <td>0</td>\n",
       "      <td>1</td>\n",
       "      <td>0</td>\n",
       "      <td>0</td>\n",
       "      <td>0</td>\n",
       "      <td>...</td>\n",
       "      <td>0</td>\n",
       "      <td>0</td>\n",
       "      <td>0</td>\n",
       "      <td>0</td>\n",
       "      <td>0</td>\n",
       "      <td>0</td>\n",
       "      <td>0</td>\n",
       "      <td>0</td>\n",
       "      <td>0</td>\n",
       "      <td>0</td>\n",
       "    </tr>\n",
       "    <tr>\n",
       "      <th>210</th>\n",
       "      <td>0</td>\n",
       "      <td>5</td>\n",
       "      <td>0</td>\n",
       "      <td>0</td>\n",
       "      <td>0</td>\n",
       "      <td>0</td>\n",
       "      <td>0</td>\n",
       "      <td>0</td>\n",
       "      <td>0</td>\n",
       "      <td>0</td>\n",
       "      <td>...</td>\n",
       "      <td>0</td>\n",
       "      <td>0</td>\n",
       "      <td>0</td>\n",
       "      <td>0</td>\n",
       "      <td>0</td>\n",
       "      <td>0</td>\n",
       "      <td>0</td>\n",
       "      <td>0</td>\n",
       "      <td>0</td>\n",
       "      <td>0</td>\n",
       "    </tr>\n",
       "    <tr>\n",
       "      <th>315</th>\n",
       "      <td>0</td>\n",
       "      <td>0</td>\n",
       "      <td>0</td>\n",
       "      <td>0</td>\n",
       "      <td>0</td>\n",
       "      <td>0</td>\n",
       "      <td>0</td>\n",
       "      <td>0</td>\n",
       "      <td>0</td>\n",
       "      <td>0</td>\n",
       "      <td>...</td>\n",
       "      <td>0</td>\n",
       "      <td>0</td>\n",
       "      <td>0</td>\n",
       "      <td>0</td>\n",
       "      <td>0</td>\n",
       "      <td>0</td>\n",
       "      <td>1</td>\n",
       "      <td>0</td>\n",
       "      <td>0</td>\n",
       "      <td>0</td>\n",
       "    </tr>\n",
       "  </tbody>\n",
       "</table>\n",
       "<p>107 rows × 11500 columns</p>\n",
       "</div>"
      ],
      "text/plain": [
       "     000  1  10  100  104  105  109  11  114  115  ...  you  young  your  \\\n",
       "1      0  2   0    0    0    0    0   0    0    0  ...    7      0    10   \n",
       "2      0  0   0    0    0    0    0   0    0    0  ...    0      0     0   \n",
       "3      0  0   0    0    0    0    0   0    0    0  ...    0      0     0   \n",
       "4      0  0   0    0    0    0    0   0    0    0  ...    1      0     0   \n",
       "5      0  0   0    0    0    0    0   0    0    0  ...    1      1     3   \n",
       "..   ... ..  ..  ...  ...  ...  ...  ..  ...  ...  ...  ...    ...   ...   \n",
       "302    4  0   0    7    0    0    0   0    0    0  ...    1      0     0   \n",
       "201    0  0   2    0    0    0    0   0    0    0  ...    0      0     0   \n",
       "206    0  2   0    0    0    0    1   0    0    0  ...    0      0     0   \n",
       "210    0  5   0    0    0    0    0   0    0    0  ...    0      0     0   \n",
       "315    0  0   0    0    0    0    0   0    0    0  ...    0      0     0   \n",
       "\n",
       "     yourself  yourselves  zaleucus  zeal  zealand  zealous  zelden  \n",
       "1           0           0         0     3        0        0       0  \n",
       "2           0           0         0     0        0        0       0  \n",
       "3           0           0         0     0        0        0       0  \n",
       "4           0           0         0     0        0        0       0  \n",
       "5           0           1         0     0        0        0       0  \n",
       "..        ...         ...       ...   ...      ...      ...     ...  \n",
       "302         0           0         0     0        0        0       0  \n",
       "201         0           0         0     0        0        0       0  \n",
       "206         0           0         0     0        0        0       0  \n",
       "210         0           0         0     0        0        0       0  \n",
       "315         0           0         0     1        0        0       0  \n",
       "\n",
       "[107 rows x 11500 columns]"
      ]
     },
     "execution_count": 39,
     "metadata": {},
     "output_type": "execute_result"
    }
   ],
   "source": [
    "df_temp = pd.read_csv(\"data/federalist-papers.csv\", index_col=0)\n",
    "# temp_author = df_temp[\"AUTHOR\"]\n",
    "\n",
    "# axis=0 row-wise operation\n",
    "# axis=1 column-wise operation\n",
    "df_temp = df_temp.drop(\"AUTHOR\", axis=1)\n",
    "# print(df_temp.sum(axis=0))\n",
    "# df_temp = df_temp.divide(df_temp.sum(axis=0))\n",
    "# df_temp *= 1000\n",
    "# df_temp = df_temp.round()\n",
    "# df_temp[\"AUTHOR\"] = temp_author\n",
    "df_temp"
   ]
  },
  {
   "cell_type": "code",
   "execution_count": 23,
   "metadata": {},
   "outputs": [
    {
     "data": {
      "text/html": [
       "<div>\n",
       "<style scoped>\n",
       "    .dataframe tbody tr th:only-of-type {\n",
       "        vertical-align: middle;\n",
       "    }\n",
       "\n",
       "    .dataframe tbody tr th {\n",
       "        vertical-align: top;\n",
       "    }\n",
       "\n",
       "    .dataframe thead th {\n",
       "        text-align: right;\n",
       "    }\n",
       "</style>\n",
       "<table border=\"1\" class=\"dataframe\">\n",
       "  <thead>\n",
       "    <tr style=\"text-align: right;\">\n",
       "      <th></th>\n",
       "      <th>count</th>\n",
       "      <th>mean</th>\n",
       "      <th>std</th>\n",
       "      <th>min</th>\n",
       "      <th>25%</th>\n",
       "      <th>50%</th>\n",
       "      <th>75%</th>\n",
       "      <th>max</th>\n",
       "    </tr>\n",
       "    <tr>\n",
       "      <th>AUTHOR</th>\n",
       "      <th></th>\n",
       "      <th></th>\n",
       "      <th></th>\n",
       "      <th></th>\n",
       "      <th></th>\n",
       "      <th></th>\n",
       "      <th></th>\n",
       "      <th></th>\n",
       "    </tr>\n",
       "  </thead>\n",
       "  <tbody>\n",
       "    <tr>\n",
       "      <th>HAMILTON</th>\n",
       "      <td>51.0</td>\n",
       "      <td>7.019608</td>\n",
       "      <td>4.925404</td>\n",
       "      <td>1.0</td>\n",
       "      <td>5.0</td>\n",
       "      <td>6.0</td>\n",
       "      <td>9.0</td>\n",
       "      <td>34.0</td>\n",
       "    </tr>\n",
       "    <tr>\n",
       "      <th>MADISON</th>\n",
       "      <td>36.0</td>\n",
       "      <td>12.916667</td>\n",
       "      <td>4.094421</td>\n",
       "      <td>5.0</td>\n",
       "      <td>10.0</td>\n",
       "      <td>12.5</td>\n",
       "      <td>15.0</td>\n",
       "      <td>23.0</td>\n",
       "    </tr>\n",
       "  </tbody>\n",
       "</table>\n",
       "</div>"
      ],
      "text/plain": [
       "          count       mean       std  min   25%   50%   75%   max\n",
       "AUTHOR                                                           \n",
       "HAMILTON   51.0   7.019608  4.925404  1.0   5.0   6.0   9.0  34.0\n",
       "MADISON    36.0  12.916667  4.094421  5.0  10.0  12.5  15.0  23.0"
      ]
     },
     "execution_count": 23,
     "metadata": {},
     "output_type": "execute_result"
    }
   ],
   "source": [
    "df_known = df[df[\"AUTHOR\"].isin({\"HAMILTON\", \"MADISON\"})]\n",
    "df_known.groupby(\"AUTHOR\")[\"by\"].describe()"
   ]
  },
  {
   "cell_type": "code",
   "execution_count": 24,
   "metadata": {},
   "outputs": [
    {
     "data": {
      "text/plain": [
       "AUTHOR\n",
       "HAMILTON    Axes(0.125,0.11;0.775x0.77)\n",
       "MADISON     Axes(0.125,0.11;0.775x0.77)\n",
       "Name: by, dtype: object"
      ]
     },
     "execution_count": 24,
     "metadata": {},
     "output_type": "execute_result"
    },
    {
     "data": {
      "image/png": "[encoded data removed]",
      "text/plain": [
       "<Figure size 640x480 with 1 Axes>"
      ]
     },
     "metadata": {},
     "output_type": "display_data"
    }
   ],
   "source": [
    "df_known.groupby(\"AUTHOR\")[\"by\"].plot.hist(\n",
    "    alpha=0.6, range=(0, 35), rwidth=0.9, legend=True\n",
    ")"
   ]
  },
  {
   "cell_type": "code",
   "execution_count": 54,
   "metadata": {},
   "outputs": [
    {
     "name": "stdout",
     "output_type": "stream",
     "text": [
      "83    34.0\n",
      "Name: by, dtype: float64\n",
      "The Author of Federalist No.83 is HAMILTON\n"
     ]
    }
   ],
   "source": [
    "print(df_known.loc[df_known[\"by\"] > 30, \"by\"])\n",
    "\n",
    "print(f\"The Author of Federalist No.83 is {df_known.loc[83]['AUTHOR']}\")"
   ]
  },
  {
   "cell_type": "code",
   "execution_count": 26,
   "metadata": {},
   "outputs": [
    {
     "name": "stdout",
     "output_type": "stream",
     "text": [
      "In Federalist No. 83 (by Hamilton), without 'by jury', 'by' occurs 7 times per 1,000 words on average.\n"
     ]
    }
   ],
   "source": [
    "with open(\"data/federalist-83.txt\") as infile:\n",
    "    text = infile.read()\n",
    "\n",
    "by_jury_count = text.count(\" by jury\")\n",
    "by_count = text.count(\" by \")\n",
    "word_count = len(text.split())\n",
    "by_rate = 1000 * (by_count - by_jury_count) / word_count\n",
    "\n",
    "print(\n",
    "    f\"In Federalist No. 83 (by Hamilton), without 'by jury', 'by' occurs {by_rate:.0f} times per 1,000 words on average.\"\n",
    ")"
   ]
  },
  {
   "cell_type": "markdown",
   "metadata": {},
   "source": [
    "`by` was used in every essay.\n",
    "Bayes Theorem doesn't help.\n",
    "\n",
    "We need a model to say that among 1,000 words chosen at random from the known essays by an author, the probability of finding x instances of by is a specific probability.\n",
    "\n",
    "X = \"experiment\" of drawing 1,000 words at random  \n",
    "x = the number of `by` instances\n",
    "\n",
    "$$\n",
    "P(X=x|H)=f(x)\n",
    "$$\n"
   ]
  },
  {
   "cell_type": "code",
   "execution_count": 27,
   "metadata": {},
   "outputs": [
    {
     "name": "stdout",
     "output_type": "stream",
     "text": [
      "Pr(X = 6):  0.1025390625\n",
      "Pr(X = 14):  0.00583648681640625\n"
     ]
    }
   ],
   "source": [
    "import scipy.special\n",
    "\n",
    "\n",
    "def negbinom_pmf(x, alpha, beta):\n",
    "    \"\"\"Negative binomial probability mass function\"\"\"\n",
    "    return (\n",
    "        scipy.special.binom(x + alpha - 1, alpha - 1)\n",
    "        * (beta / (beta + 1)) ** alpha\n",
    "        * (1 / (beta + 1)) ** x\n",
    "    )\n",
    "\n",
    "\n",
    "print(\"Pr(X = 6): \", negbinom_pmf(6, alpha=5, beta=1))\n",
    "print(\"Pr(X = 14): \", negbinom_pmf(14, alpha=5, beta=1))"
   ]
  },
  {
   "cell_type": "code",
   "execution_count": 56,
   "metadata": {},
   "outputs": [
    {
     "data": {
      "text/plain": [
       "<Axes: ylabel='Frequency'>"
      ]
     },
     "execution_count": 56,
     "metadata": {},
     "output_type": "execute_result"
    },
    {
     "data": {
      "image/png": "[encoded data removed]",
      "text/plain": [
       "<Figure size 640x480 with 1 Axes>"
      ]
     },
     "metadata": {},
     "output_type": "display_data"
    }
   ],
   "source": [
    "df_known[df_known[\"AUTHOR\"] == \"HAMILTON\"][\"by\"].plot.hist(\n",
    "    range=(0, 35), density=True, rwidth=0.9\n",
    ")"
   ]
  },
  {
   "cell_type": "code",
   "execution_count": 29,
   "metadata": {},
   "outputs": [
    {
     "data": {
      "text/plain": [
       "count    51.000000\n",
       "mean      7.019608\n",
       "std       4.925404\n",
       "min       1.000000\n",
       "25%       5.000000\n",
       "50%       6.000000\n",
       "75%       9.000000\n",
       "max      34.000000\n",
       "Name: by, dtype: float64"
      ]
     },
     "execution_count": 29,
     "metadata": {},
     "output_type": "execute_result"
    }
   ],
   "source": [
    "df_known[df_known[\"AUTHOR\"] == \"HAMILTON\"][\"by\"].describe()"
   ]
  },
  {
   "cell_type": "code",
   "execution_count": 30,
   "metadata": {},
   "outputs": [
    {
     "data": {
      "image/png": "[encoded data removed]",
      "text/plain": [
       "<Figure size 1000x800 with 12 Axes>"
      ]
     },
     "metadata": {},
     "output_type": "display_data"
    }
   ],
   "source": [
    "import itertools\n",
    "import matplotlib.pyplot as plt\n",
    "\n",
    "\n",
    "x = np.arange(60)\n",
    "alphas, betas = [5, 6.5, 12, 16], [1.5, 0.5, 0.7]\n",
    "params = list(itertools.product(alphas, betas))\n",
    "# print(params)\n",
    "pmfs = [negbinom_pmf(x, alpha, beta) for alpha, beta in params]\n",
    "\n",
    "fig, axes = plt.subplots(4, 3, sharey=True, figsize=(10, 8))\n",
    "axes = axes.flatten()\n",
    "\n",
    "for ax, pmf, (alpha, beta) in zip(axes, pmfs, params):\n",
    "    ax.bar(x, pmf)\n",
    "    ax.set_title(rf\"$\\alpha$ = {alpha}, $\\beta$ = {beta}\")\n",
    "\n",
    "plt.tight_layout()"
   ]
  },
  {
   "cell_type": "code",
   "execution_count": 31,
   "metadata": {},
   "outputs": [
    {
     "data": {
      "text/plain": [
       "count    10000.00000\n",
       "mean         7.07620\n",
       "std          4.11972\n",
       "min          0.00000\n",
       "25%          4.00000\n",
       "50%          6.00000\n",
       "75%          9.00000\n",
       "max         29.00000\n",
       "dtype: float64"
      ]
     },
     "execution_count": 31,
     "metadata": {},
     "output_type": "execute_result"
    }
   ],
   "source": [
    "def negbinom(alpha, beta, size=None):\n",
    "    n = alpha\n",
    "    p = beta / (beta + 1)\n",
    "    return np.random.negative_binomial(n, p, size)\n",
    "\n",
    "\n",
    "samples = negbinom(5, 0.7, 10_000)\n",
    "pd.Series(samples).describe()"
   ]
  },
  {
   "cell_type": "code",
   "execution_count": 32,
   "metadata": {},
   "outputs": [
    {
     "data": {
      "text/plain": [
       "<Axes: ylabel='Frequency'>"
      ]
     },
     "execution_count": 32,
     "metadata": {},
     "output_type": "execute_result"
    },
    {
     "data": {
      "image/png": "[encoded data removed]",
      "text/plain": [
       "<Figure size 640x480 with 1 Axes>"
      ]
     },
     "metadata": {},
     "output_type": "display_data"
    }
   ],
   "source": [
    "df_known[df_known[\"AUTHOR\"] == \"MADISON\"][\"by\"].plot.hist(\n",
    "    density=True, rwidth=0.9, range=(0, 35)\n",
    ")"
   ]
  },
  {
   "cell_type": "code",
   "execution_count": 58,
   "metadata": {},
   "outputs": [
    {
     "data": {
      "image/png": "[encoded data removed]",
      "text/plain": [
       "<Figure size 1000x800 with 12 Axes>"
      ]
     },
     "metadata": {},
     "output_type": "display_data"
    }
   ],
   "source": [
    "x = np.arange(60)\n",
    "alphas, betas = [100, 50, 28, 10], [23, 4, 1.3]\n",
    "params = list(itertools.product(alphas, betas))\n",
    "pmfs = [negbinom_pmf(x, alpha, beta) for alpha, beta in params]\n",
    "fig, axes = plt.subplots(4, 3, sharey=True, figsize=(10, 8))\n",
    "axes = axes.flatten()\n",
    "for ax, pmf, (alpha, beta) in zip(axes, pmfs, params):\n",
    "    ax.bar(x, pmf)\n",
    "    ax.set_title(rf\"$\\alpha$ = {alpha}, $\\beta$ = {beta}\")\n",
    "plt.tight_layout()"
   ]
  },
  {
   "cell_type": "code",
   "execution_count": 34,
   "metadata": {},
   "outputs": [],
   "source": [
    "authors = (\"HAMILTON\", \"MADISON\")\n",
    "alpha_hamilton, beta_hamilton = 5, 0.7\n",
    "alpha_madison, beta_madison = 50, 4"
   ]
  },
  {
   "cell_type": "code",
   "execution_count": 35,
   "metadata": {},
   "outputs": [
    {
     "data": {
      "image/png": "[encoded data removed]",
      "text/plain": [
       "<Figure size 640x480 with 2 Axes>"
      ]
     },
     "metadata": {},
     "output_type": "display_data"
    }
   ],
   "source": [
    "fig, axes = plt.subplots(2, 1, sharex=True, sharey=True)\n",
    "df_known.groupby(\"AUTHOR\")[\"by\"].plot.hist(\n",
    "    ax=axes[0],\n",
    "    density=True,\n",
    "    range=(0, 35),\n",
    "    rwidth=0.9,\n",
    "    alpha=0.6,\n",
    "    title=\"Hamilton v. Madison (observed)\",\n",
    "    legend=True,\n",
    ")\n",
    "\n",
    "simulations = 10000\n",
    "for author, (alpha, beta) in zip(\n",
    "    authors, [(alpha_hamilton, beta_hamilton), (alpha_madison, beta_madison)]\n",
    "):\n",
    "    pd.Series(negbinom(alpha, beta, size=simulations)).plot.hist(\n",
    "        label=author, density=True, rwidth=0.9, alpha=0.6, range=(0, 35), ax=axes[1]\n",
    "    )\n",
    "axes[1].set_xlim((0, 40))\n",
    "axes[1].set_title(\"Hamilton v. Madison (model)\")\n",
    "axes[1].legend()\n",
    "plt.tight_layout()"
   ]
  },
  {
   "cell_type": "code",
   "execution_count": 36,
   "metadata": {},
   "outputs": [
    {
     "name": "stdout",
     "output_type": "stream",
     "text": [
      "0.021512065936254765\n"
     ]
    }
   ],
   "source": [
    "likelihood_hamilton = negbinom_pmf(14, alpha_hamilton, beta_hamilton)\n",
    "print(likelihood_hamilton)"
   ]
  },
  {
   "cell_type": "code",
   "execution_count": 37,
   "metadata": {},
   "outputs": [
    {
     "name": "stdout",
     "output_type": "stream",
     "text": [
      "0.08742647980678281\n"
     ]
    }
   ],
   "source": [
    "likelihood_madison = negbinom_pmf(14, alpha_madison, beta_madison)\n",
    "print(likelihood_madison)"
   ]
  },
  {
   "cell_type": "code",
   "execution_count": 38,
   "metadata": {},
   "outputs": [
    {
     "name": "stdout",
     "output_type": "stream",
     "text": [
      "0.19746973662561154\n"
     ]
    }
   ],
   "source": [
    "pr_hamilton = (\n",
    "    likelihood_hamilton * 0.5 / (likelihood_hamilton * 0.5 + likelihood_madison * 0.5)\n",
    ")\n",
    "print(pr_hamilton)"
   ]
  },
  {
   "cell_type": "code",
   "execution_count": null,
   "metadata": {},
   "outputs": [],
   "source": []
  }
 ],
 "metadata": {
  "kernelspec": {
   "display_name": "venv",
   "language": "python",
   "name": "python3"
  },
  "language_info": {
   "codemirror_mode": {
    "name": "ipython",
    "version": 3
   },
   "file_extension": ".py",
   "mimetype": "text/x-python",
   "name": "python",
   "nbconvert_exporter": "python",
   "pygments_lexer": "ipython3",
   "version": "3.11.4"
  },
  "orig_nbformat": 4
 },
 "nbformat": 4,
 "nbformat_minor": 2
}
